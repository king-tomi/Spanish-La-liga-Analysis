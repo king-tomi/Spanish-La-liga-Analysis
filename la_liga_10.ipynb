{
 "metadata": {
  "language_info": {
   "codemirror_mode": {
    "name": "ipython",
    "version": 3
   },
   "file_extension": ".py",
   "mimetype": "text/x-python",
   "name": "python",
   "nbconvert_exporter": "python",
   "pygments_lexer": "ipython3",
   "version": "3.8.5-final"
  },
  "orig_nbformat": 2,
  "kernelspec": {
   "name": "Python 3.8.5 32-bit",
   "display_name": "Python 3.8.5 32-bit",
   "metadata": {
    "interpreter": {
     "hash": "7a542ca580817fc4dd55327026e074e2fa0cd470fc5dee9350c2d8b13822db8d"
    }
   }
  }
 },
 "nbformat": 4,
 "nbformat_minor": 2,
 "cells": [
  {
   "cell_type": "code",
   "execution_count": 1,
   "metadata": {},
   "outputs": [],
   "source": [
    "import numpy as np\n",
    "import pandas as pd"
   ]
  },
  {
   "cell_type": "code",
   "execution_count": 2,
   "metadata": {},
   "outputs": [],
   "source": [
    "import matplotlib.pyplot as plt\n",
    "%matplotlib inline"
   ]
  },
  {
   "cell_type": "code",
   "execution_count": 3,
   "metadata": {},
   "outputs": [],
   "source": [
    "from la_liga import Utility"
   ]
  },
  {
   "cell_type": "code",
   "execution_count": 4,
   "metadata": {},
   "outputs": [],
   "source": [
    "import seaborn as sns"
   ]
  },
  {
   "cell_type": "code",
   "execution_count": 5,
   "metadata": {},
   "outputs": [],
   "source": [
    "data = pd.read_csv(\"data/season-1011_csv.csv\")"
   ]
  },
  {
   "cell_type": "code",
   "execution_count": 6,
   "metadata": {
    "tags": []
   },
   "outputs": [
    {
     "output_type": "execute_result",
     "data": {
      "text/plain": [
       "   Div      Date   HomeTeam    AwayTeam  FTHG  FTAG FTR  HTHG  HTAG HTR  ...  \\\n",
       "0  SP1  28/08/10   Hercules  Ath Bilbao     0     1   A     0     0   D  ...   \n",
       "1  SP1  28/08/10    Levante     Sevilla     1     4   A     1     2   A  ...   \n",
       "2  SP1  28/08/10     Malaga    Valencia     1     3   A     1     1   D  ...   \n",
       "3  SP1  29/08/10    Espanol      Getafe     3     1   H     1     0   H  ...   \n",
       "4  SP1  29/08/10  La Coruna    Zaragoza     0     0   D     0     0   D  ...   \n",
       "\n",
       "   BbMx>2.5  BbAv>2.5  BbMx<2.5  BbAv<2.5  BbAH  BbAHh  BbMxAHH  BbAvAHH  \\\n",
       "0      2.26      2.12      1.73      1.67    25    0.0     1.92     1.84   \n",
       "1      2.05      1.95      1.92      1.82    15    0.0     2.75     2.54   \n",
       "2      2.14      2.04      1.80      1.74    19    0.0     2.25     2.08   \n",
       "3      2.43      2.25      1.65      1.60    21    0.0     1.57     1.51   \n",
       "4      2.40      2.21      1.67      1.62    19    0.0     1.54     1.49   \n",
       "\n",
       "   BbMxAHA  BbAvAHA  \n",
       "0     2.10     1.95  \n",
       "1     1.53     1.48  \n",
       "2     1.83     1.71  \n",
       "3     2.69     2.48  \n",
       "4     2.64     2.50  \n",
       "\n",
       "[5 rows x 70 columns]"
      ],
      "text/html": "<div>\n<style scoped>\n    .dataframe tbody tr th:only-of-type {\n        vertical-align: middle;\n    }\n\n    .dataframe tbody tr th {\n        vertical-align: top;\n    }\n\n    .dataframe thead th {\n        text-align: right;\n    }\n</style>\n<table border=\"1\" class=\"dataframe\">\n  <thead>\n    <tr style=\"text-align: right;\">\n      <th></th>\n      <th>Div</th>\n      <th>Date</th>\n      <th>HomeTeam</th>\n      <th>AwayTeam</th>\n      <th>FTHG</th>\n      <th>FTAG</th>\n      <th>FTR</th>\n      <th>HTHG</th>\n      <th>HTAG</th>\n      <th>HTR</th>\n      <th>...</th>\n      <th>BbMx&gt;2.5</th>\n      <th>BbAv&gt;2.5</th>\n      <th>BbMx&lt;2.5</th>\n      <th>BbAv&lt;2.5</th>\n      <th>BbAH</th>\n      <th>BbAHh</th>\n      <th>BbMxAHH</th>\n      <th>BbAvAHH</th>\n      <th>BbMxAHA</th>\n      <th>BbAvAHA</th>\n    </tr>\n  </thead>\n  <tbody>\n    <tr>\n      <th>0</th>\n      <td>SP1</td>\n      <td>28/08/10</td>\n      <td>Hercules</td>\n      <td>Ath Bilbao</td>\n      <td>0</td>\n      <td>1</td>\n      <td>A</td>\n      <td>0</td>\n      <td>0</td>\n      <td>D</td>\n      <td>...</td>\n      <td>2.26</td>\n      <td>2.12</td>\n      <td>1.73</td>\n      <td>1.67</td>\n      <td>25</td>\n      <td>0.0</td>\n      <td>1.92</td>\n      <td>1.84</td>\n      <td>2.10</td>\n      <td>1.95</td>\n    </tr>\n    <tr>\n      <th>1</th>\n      <td>SP1</td>\n      <td>28/08/10</td>\n      <td>Levante</td>\n      <td>Sevilla</td>\n      <td>1</td>\n      <td>4</td>\n      <td>A</td>\n      <td>1</td>\n      <td>2</td>\n      <td>A</td>\n      <td>...</td>\n      <td>2.05</td>\n      <td>1.95</td>\n      <td>1.92</td>\n      <td>1.82</td>\n      <td>15</td>\n      <td>0.0</td>\n      <td>2.75</td>\n      <td>2.54</td>\n      <td>1.53</td>\n      <td>1.48</td>\n    </tr>\n    <tr>\n      <th>2</th>\n      <td>SP1</td>\n      <td>28/08/10</td>\n      <td>Malaga</td>\n      <td>Valencia</td>\n      <td>1</td>\n      <td>3</td>\n      <td>A</td>\n      <td>1</td>\n      <td>1</td>\n      <td>D</td>\n      <td>...</td>\n      <td>2.14</td>\n      <td>2.04</td>\n      <td>1.80</td>\n      <td>1.74</td>\n      <td>19</td>\n      <td>0.0</td>\n      <td>2.25</td>\n      <td>2.08</td>\n      <td>1.83</td>\n      <td>1.71</td>\n    </tr>\n    <tr>\n      <th>3</th>\n      <td>SP1</td>\n      <td>29/08/10</td>\n      <td>Espanol</td>\n      <td>Getafe</td>\n      <td>3</td>\n      <td>1</td>\n      <td>H</td>\n      <td>1</td>\n      <td>0</td>\n      <td>H</td>\n      <td>...</td>\n      <td>2.43</td>\n      <td>2.25</td>\n      <td>1.65</td>\n      <td>1.60</td>\n      <td>21</td>\n      <td>0.0</td>\n      <td>1.57</td>\n      <td>1.51</td>\n      <td>2.69</td>\n      <td>2.48</td>\n    </tr>\n    <tr>\n      <th>4</th>\n      <td>SP1</td>\n      <td>29/08/10</td>\n      <td>La Coruna</td>\n      <td>Zaragoza</td>\n      <td>0</td>\n      <td>0</td>\n      <td>D</td>\n      <td>0</td>\n      <td>0</td>\n      <td>D</td>\n      <td>...</td>\n      <td>2.40</td>\n      <td>2.21</td>\n      <td>1.67</td>\n      <td>1.62</td>\n      <td>19</td>\n      <td>0.0</td>\n      <td>1.54</td>\n      <td>1.49</td>\n      <td>2.64</td>\n      <td>2.50</td>\n    </tr>\n  </tbody>\n</table>\n<p>5 rows × 70 columns</p>\n</div>"
     },
     "metadata": {},
     "execution_count": 6
    }
   ],
   "source": [
    "data.head()"
   ]
  },
  {
   "cell_type": "code",
   "execution_count": 7,
   "metadata": {
    "tags": []
   },
   "outputs": [
    {
     "output_type": "stream",
     "name": "stdout",
     "text": [
      "<class 'pandas.core.frame.DataFrame'>\nRangeIndex: 380 entries, 0 to 379\nData columns (total 70 columns):\n #   Column    Non-Null Count  Dtype  \n---  ------    --------------  -----  \n 0   Div       380 non-null    object \n 1   Date      380 non-null    object \n 2   HomeTeam  380 non-null    object \n 3   AwayTeam  380 non-null    object \n 4   FTHG      380 non-null    int64  \n 5   FTAG      380 non-null    int64  \n 6   FTR       380 non-null    object \n 7   HTHG      380 non-null    int64  \n 8   HTAG      380 non-null    int64  \n 9   HTR       380 non-null    object \n 10  HS        380 non-null    int64  \n 11  AS        380 non-null    int64  \n 12  HST       380 non-null    int64  \n 13  AST       380 non-null    int64  \n 14  HF        380 non-null    int64  \n 15  AF        380 non-null    int64  \n 16  HC        380 non-null    int64  \n 17  AC        380 non-null    int64  \n 18  HY        380 non-null    int64  \n 19  AY        380 non-null    int64  \n 20  HR        380 non-null    int64  \n 21  AR        380 non-null    int64  \n 22  B365H     380 non-null    float64\n 23  B365D     380 non-null    float64\n 24  B365A     380 non-null    float64\n 25  BWH       380 non-null    float64\n 26  BWD       380 non-null    float64\n 27  BWA       380 non-null    float64\n 28  GBH       380 non-null    float64\n 29  GBD       380 non-null    float64\n 30  GBA       380 non-null    float64\n 31  IWH       380 non-null    float64\n 32  IWD       380 non-null    float64\n 33  IWA       380 non-null    float64\n 34  LBH       380 non-null    float64\n 35  LBD       380 non-null    float64\n 36  LBA       380 non-null    float64\n 37  SBH       377 non-null    float64\n 38  SBD       377 non-null    float64\n 39  SBA       377 non-null    float64\n 40  WHH       380 non-null    float64\n 41  WHD       380 non-null    float64\n 42  WHA       380 non-null    float64\n 43  SJH       380 non-null    float64\n 44  SJD       380 non-null    float64\n 45  SJA       380 non-null    float64\n 46  VCH       380 non-null    float64\n 47  VCD       380 non-null    float64\n 48  VCA       380 non-null    float64\n 49  BSH       380 non-null    float64\n 50  BSD       380 non-null    float64\n 51  BSA       380 non-null    float64\n 52  Bb1X2     380 non-null    int64  \n 53  BbMxH     380 non-null    float64\n 54  BbAvH     380 non-null    float64\n 55  BbMxD     380 non-null    float64\n 56  BbAvD     380 non-null    float64\n 57  BbMxA     380 non-null    float64\n 58  BbAvA     380 non-null    float64\n 59  BbOU      380 non-null    int64  \n 60  BbMx>2.5  380 non-null    float64\n 61  BbAv>2.5  380 non-null    float64\n 62  BbMx<2.5  380 non-null    float64\n 63  BbAv<2.5  380 non-null    float64\n 64  BbAH      380 non-null    int64  \n 65  BbAHh     380 non-null    float64\n 66  BbMxAHH   380 non-null    float64\n 67  BbAvAHH   380 non-null    float64\n 68  BbMxAHA   380 non-null    float64\n 69  BbAvAHA   380 non-null    float64\ndtypes: float64(45), int64(19), object(6)\nmemory usage: 199.0+ KB\n"
     ]
    }
   ],
   "source": [
    "data.info()"
   ]
  },
  {
   "cell_type": "code",
   "execution_count": 8,
   "metadata": {},
   "outputs": [
    {
     "output_type": "execute_result",
     "data": {
      "text/plain": [
       "     Div      Date HomeTeam   AwayTeam  FTHG  FTAG FTR  HTHG  HTAG HTR  ...  \\\n",
       "110  SP1  20/11/10  Almeria  Barcelona     0     8   A     0     5   A  ...   \n",
       "\n",
       "     BbMx>2.5  BbAv>2.5  BbMx<2.5  BbAv<2.5  BbAH  BbAHh  BbMxAHH  BbAvAHH  \\\n",
       "110       1.6      1.55       2.5      2.36    16    1.5     1.98     1.95   \n",
       "\n",
       "     BbMxAHA  BbAvAHA  \n",
       "110     1.98     1.93  \n",
       "\n",
       "[1 rows x 70 columns]"
      ],
      "text/html": "<div>\n<style scoped>\n    .dataframe tbody tr th:only-of-type {\n        vertical-align: middle;\n    }\n\n    .dataframe tbody tr th {\n        vertical-align: top;\n    }\n\n    .dataframe thead th {\n        text-align: right;\n    }\n</style>\n<table border=\"1\" class=\"dataframe\">\n  <thead>\n    <tr style=\"text-align: right;\">\n      <th></th>\n      <th>Div</th>\n      <th>Date</th>\n      <th>HomeTeam</th>\n      <th>AwayTeam</th>\n      <th>FTHG</th>\n      <th>FTAG</th>\n      <th>FTR</th>\n      <th>HTHG</th>\n      <th>HTAG</th>\n      <th>HTR</th>\n      <th>...</th>\n      <th>BbMx&gt;2.5</th>\n      <th>BbAv&gt;2.5</th>\n      <th>BbMx&lt;2.5</th>\n      <th>BbAv&lt;2.5</th>\n      <th>BbAH</th>\n      <th>BbAHh</th>\n      <th>BbMxAHH</th>\n      <th>BbAvAHH</th>\n      <th>BbMxAHA</th>\n      <th>BbAvAHA</th>\n    </tr>\n  </thead>\n  <tbody>\n    <tr>\n      <th>110</th>\n      <td>SP1</td>\n      <td>20/11/10</td>\n      <td>Almeria</td>\n      <td>Barcelona</td>\n      <td>0</td>\n      <td>8</td>\n      <td>A</td>\n      <td>0</td>\n      <td>5</td>\n      <td>A</td>\n      <td>...</td>\n      <td>1.6</td>\n      <td>1.55</td>\n      <td>2.5</td>\n      <td>2.36</td>\n      <td>16</td>\n      <td>1.5</td>\n      <td>1.98</td>\n      <td>1.95</td>\n      <td>1.98</td>\n      <td>1.93</td>\n    </tr>\n  </tbody>\n</table>\n<p>1 rows × 70 columns</p>\n</div>"
     },
     "metadata": {},
     "execution_count": 8
    }
   ],
   "source": [
    "data[data[\"FTAG\"] == data[\"FTHG\"].max()]"
   ]
  },
  {
   "cell_type": "code",
   "execution_count": 9,
   "metadata": {},
   "outputs": [
    {
     "output_type": "execute_result",
     "data": {
      "text/plain": [
       "1042"
      ]
     },
     "metadata": {},
     "execution_count": 9
    }
   ],
   "source": [
    "data[\"FTHG\"].sum() + data[\"FTAG\"].sum()"
   ]
  },
  {
   "cell_type": "code",
   "execution_count": 10,
   "metadata": {},
   "outputs": [
    {
     "output_type": "display_data",
     "data": {
      "text/plain": "<Figure size 432x288 with 1 Axes>",
      "image/svg+xml": "<?xml version=\"1.0\" encoding=\"utf-8\" standalone=\"no\"?>\r\n<!DOCTYPE svg PUBLIC \"-//W3C//DTD SVG 1.1//EN\"\r\n  \"http://www.w3.org/Graphics/SVG/1.1/DTD/svg11.dtd\">\r\n<!-- Created with matplotlib (https://matplotlib.org/) -->\r\n<svg height=\"277.314375pt\" version=\"1.1\" viewBox=\"0 0 388.965625 277.314375\" width=\"388.965625pt\" xmlns=\"http://www.w3.org/2000/svg\" xmlns:xlink=\"http://www.w3.org/1999/xlink\">\r\n <metadata>\r\n  <rdf:RDF xmlns:cc=\"http://creativecommons.org/ns#\" xmlns:dc=\"http://purl.org/dc/elements/1.1/\" xmlns:rdf=\"http://www.w3.org/1999/02/22-rdf-syntax-ns#\">\r\n   <cc:Work>\r\n    <dc:type rdf:resource=\"http://purl.org/dc/dcmitype/StillImage\"/>\r\n    <dc:date>2020-11-14T10:20:27.354068</dc:date>\r\n    <dc:format>image/svg+xml</dc:format>\r\n    <dc:creator>\r\n     <cc:Agent>\r\n      <dc:title>Matplotlib v3.3.0, https://matplotlib.org/</dc:title>\r\n     </cc:Agent>\r\n    </dc:creator>\r\n   </cc:Work>\r\n  </rdf:RDF>\r\n </metadata>\r\n <defs>\r\n  <style type=\"text/css\">*{stroke-linecap:butt;stroke-linejoin:round;}</style>\r\n </defs>\r\n <g id=\"figure_1\">\r\n  <g id=\"patch_1\">\r\n   <path d=\"M -0 277.314375 \r\nL 388.965625 277.314375 \r\nL 388.965625 0 \r\nL -0 0 \r\nz\r\n\" style=\"fill:none;\"/>\r\n  </g>\r\n  <g id=\"axes_1\">\r\n   <g id=\"patch_2\">\r\n    <path d=\"M 46.965625 239.758125 \r\nL 381.765625 239.758125 \r\nL 381.765625 22.318125 \r\nL 46.965625 22.318125 \r\nz\r\n\" style=\"fill:#ffffff;\"/>\r\n   </g>\r\n   <g id=\"patch_3\">\r\n    <path clip-path=\"url(#pcdcc663ee2)\" d=\"M 58.125625 239.758125 \r\nL 147.405625 239.758125 \r\nL 147.405625 130.433687 \r\nL 58.125625 130.433687 \r\nz\r\n\" style=\"fill:#3274a1;\"/>\r\n   </g>\r\n   <g id=\"patch_4\">\r\n    <path clip-path=\"url(#pcdcc663ee2)\" d=\"M 169.725625 239.758125 \r\nL 259.005625 239.758125 \r\nL 259.005625 32.672411 \r\nL 169.725625 32.672411 \r\nz\r\n\" style=\"fill:#e1812c;\"/>\r\n   </g>\r\n   <g id=\"patch_5\">\r\n    <path clip-path=\"url(#pcdcc663ee2)\" d=\"M 281.325625 239.758125 \r\nL 370.605625 239.758125 \r\nL 370.605625 156.7136 \r\nL 281.325625 156.7136 \r\nz\r\n\" style=\"fill:#3a923a;\"/>\r\n   </g>\r\n   <g id=\"matplotlib.axis_1\">\r\n    <g id=\"xtick_1\">\r\n     <g id=\"line2d_1\">\r\n      <defs>\r\n       <path d=\"M 0 0 \r\nL 0 3.5 \r\n\" id=\"m3a8ad090ea\" style=\"stroke:#000000;stroke-width:0.8;\"/>\r\n      </defs>\r\n      <g>\r\n       <use style=\"stroke:#000000;stroke-width:0.8;\" x=\"102.765625\" xlink:href=\"#m3a8ad090ea\" y=\"239.758125\"/>\r\n      </g>\r\n     </g>\r\n     <g id=\"text_1\">\r\n      <!-- A -->\r\n      <g transform=\"translate(99.345313 254.356562)scale(0.1 -0.1)\">\r\n       <defs>\r\n        <path d=\"M 34.1875 63.1875 \r\nL 20.796875 26.90625 \r\nL 47.609375 26.90625 \r\nz\r\nM 28.609375 72.90625 \r\nL 39.796875 72.90625 \r\nL 67.578125 0 \r\nL 57.328125 0 \r\nL 50.6875 18.703125 \r\nL 17.828125 18.703125 \r\nL 11.1875 0 \r\nL 0.78125 0 \r\nz\r\n\" id=\"DejaVuSans-65\"/>\r\n       </defs>\r\n       <use xlink:href=\"#DejaVuSans-65\"/>\r\n      </g>\r\n     </g>\r\n    </g>\r\n    <g id=\"xtick_2\">\r\n     <g id=\"line2d_2\">\r\n      <g>\r\n       <use style=\"stroke:#000000;stroke-width:0.8;\" x=\"214.365625\" xlink:href=\"#m3a8ad090ea\" y=\"239.758125\"/>\r\n      </g>\r\n     </g>\r\n     <g id=\"text_2\">\r\n      <!-- H -->\r\n      <g transform=\"translate(210.605469 254.356562)scale(0.1 -0.1)\">\r\n       <defs>\r\n        <path d=\"M 9.8125 72.90625 \r\nL 19.671875 72.90625 \r\nL 19.671875 43.015625 \r\nL 55.515625 43.015625 \r\nL 55.515625 72.90625 \r\nL 65.375 72.90625 \r\nL 65.375 0 \r\nL 55.515625 0 \r\nL 55.515625 34.71875 \r\nL 19.671875 34.71875 \r\nL 19.671875 0 \r\nL 9.8125 0 \r\nz\r\n\" id=\"DejaVuSans-72\"/>\r\n       </defs>\r\n       <use xlink:href=\"#DejaVuSans-72\"/>\r\n      </g>\r\n     </g>\r\n    </g>\r\n    <g id=\"xtick_3\">\r\n     <g id=\"line2d_3\">\r\n      <g>\r\n       <use style=\"stroke:#000000;stroke-width:0.8;\" x=\"325.965625\" xlink:href=\"#m3a8ad090ea\" y=\"239.758125\"/>\r\n      </g>\r\n     </g>\r\n     <g id=\"text_3\">\r\n      <!-- D -->\r\n      <g transform=\"translate(322.115625 254.356562)scale(0.1 -0.1)\">\r\n       <defs>\r\n        <path d=\"M 19.671875 64.796875 \r\nL 19.671875 8.109375 \r\nL 31.59375 8.109375 \r\nQ 46.6875 8.109375 53.6875 14.9375 \r\nQ 60.6875 21.78125 60.6875 36.53125 \r\nQ 60.6875 51.171875 53.6875 57.984375 \r\nQ 46.6875 64.796875 31.59375 64.796875 \r\nz\r\nM 9.8125 72.90625 \r\nL 30.078125 72.90625 \r\nQ 51.265625 72.90625 61.171875 64.09375 \r\nQ 71.09375 55.28125 71.09375 36.53125 \r\nQ 71.09375 17.671875 61.125 8.828125 \r\nQ 51.171875 0 30.078125 0 \r\nL 9.8125 0 \r\nz\r\n\" id=\"DejaVuSans-68\"/>\r\n       </defs>\r\n       <use xlink:href=\"#DejaVuSans-68\"/>\r\n      </g>\r\n     </g>\r\n    </g>\r\n    <g id=\"text_4\">\r\n     <!-- FTR -->\r\n     <g transform=\"translate(205.049219 268.034687)scale(0.1 -0.1)\">\r\n      <defs>\r\n       <path d=\"M 9.8125 72.90625 \r\nL 51.703125 72.90625 \r\nL 51.703125 64.59375 \r\nL 19.671875 64.59375 \r\nL 19.671875 43.109375 \r\nL 48.578125 43.109375 \r\nL 48.578125 34.8125 \r\nL 19.671875 34.8125 \r\nL 19.671875 0 \r\nL 9.8125 0 \r\nz\r\n\" id=\"DejaVuSans-70\"/>\r\n       <path d=\"M -0.296875 72.90625 \r\nL 61.375 72.90625 \r\nL 61.375 64.59375 \r\nL 35.5 64.59375 \r\nL 35.5 0 \r\nL 25.59375 0 \r\nL 25.59375 64.59375 \r\nL -0.296875 64.59375 \r\nz\r\n\" id=\"DejaVuSans-84\"/>\r\n       <path d=\"M 44.390625 34.1875 \r\nQ 47.5625 33.109375 50.5625 29.59375 \r\nQ 53.5625 26.078125 56.59375 19.921875 \r\nL 66.609375 0 \r\nL 56 0 \r\nL 46.6875 18.703125 \r\nQ 43.0625 26.03125 39.671875 28.421875 \r\nQ 36.28125 30.8125 30.421875 30.8125 \r\nL 19.671875 30.8125 \r\nL 19.671875 0 \r\nL 9.8125 0 \r\nL 9.8125 72.90625 \r\nL 32.078125 72.90625 \r\nQ 44.578125 72.90625 50.734375 67.671875 \r\nQ 56.890625 62.453125 56.890625 51.90625 \r\nQ 56.890625 45.015625 53.6875 40.46875 \r\nQ 50.484375 35.9375 44.390625 34.1875 \r\nz\r\nM 19.671875 64.796875 \r\nL 19.671875 38.921875 \r\nL 32.078125 38.921875 \r\nQ 39.203125 38.921875 42.84375 42.21875 \r\nQ 46.484375 45.515625 46.484375 51.90625 \r\nQ 46.484375 58.296875 42.84375 61.546875 \r\nQ 39.203125 64.796875 32.078125 64.796875 \r\nz\r\n\" id=\"DejaVuSans-82\"/>\r\n      </defs>\r\n      <use xlink:href=\"#DejaVuSans-70\"/>\r\n      <use x=\"55.769531\" xlink:href=\"#DejaVuSans-84\"/>\r\n      <use x=\"116.853516\" xlink:href=\"#DejaVuSans-82\"/>\r\n     </g>\r\n    </g>\r\n   </g>\r\n   <g id=\"matplotlib.axis_2\">\r\n    <g id=\"ytick_1\">\r\n     <g id=\"line2d_4\">\r\n      <defs>\r\n       <path d=\"M 0 0 \r\nL -3.5 0 \r\n\" id=\"m9786a85672\" style=\"stroke:#000000;stroke-width:0.8;\"/>\r\n      </defs>\r\n      <g>\r\n       <use style=\"stroke:#000000;stroke-width:0.8;\" x=\"46.965625\" xlink:href=\"#m9786a85672\" y=\"239.758125\"/>\r\n      </g>\r\n     </g>\r\n     <g id=\"text_5\">\r\n      <!-- 0 -->\r\n      <g transform=\"translate(33.603125 243.557344)scale(0.1 -0.1)\">\r\n       <defs>\r\n        <path d=\"M 31.78125 66.40625 \r\nQ 24.171875 66.40625 20.328125 58.90625 \r\nQ 16.5 51.421875 16.5 36.375 \r\nQ 16.5 21.390625 20.328125 13.890625 \r\nQ 24.171875 6.390625 31.78125 6.390625 \r\nQ 39.453125 6.390625 43.28125 13.890625 \r\nQ 47.125 21.390625 47.125 36.375 \r\nQ 47.125 51.421875 43.28125 58.90625 \r\nQ 39.453125 66.40625 31.78125 66.40625 \r\nz\r\nM 31.78125 74.21875 \r\nQ 44.046875 74.21875 50.515625 64.515625 \r\nQ 56.984375 54.828125 56.984375 36.375 \r\nQ 56.984375 17.96875 50.515625 8.265625 \r\nQ 44.046875 -1.421875 31.78125 -1.421875 \r\nQ 19.53125 -1.421875 13.0625 8.265625 \r\nQ 6.59375 17.96875 6.59375 36.375 \r\nQ 6.59375 54.828125 13.0625 64.515625 \r\nQ 19.53125 74.21875 31.78125 74.21875 \r\nz\r\n\" id=\"DejaVuSans-48\"/>\r\n       </defs>\r\n       <use xlink:href=\"#DejaVuSans-48\"/>\r\n      </g>\r\n     </g>\r\n    </g>\r\n    <g id=\"ytick_2\">\r\n     <g id=\"line2d_5\">\r\n      <g>\r\n       <use style=\"stroke:#000000;stroke-width:0.8;\" x=\"46.965625\" xlink:href=\"#m9786a85672\" y=\"213.478212\"/>\r\n      </g>\r\n     </g>\r\n     <g id=\"text_6\">\r\n      <!-- 25 -->\r\n      <g transform=\"translate(27.240625 217.277431)scale(0.1 -0.1)\">\r\n       <defs>\r\n        <path d=\"M 19.1875 8.296875 \r\nL 53.609375 8.296875 \r\nL 53.609375 0 \r\nL 7.328125 0 \r\nL 7.328125 8.296875 \r\nQ 12.9375 14.109375 22.625 23.890625 \r\nQ 32.328125 33.6875 34.8125 36.53125 \r\nQ 39.546875 41.84375 41.421875 45.53125 \r\nQ 43.3125 49.21875 43.3125 52.78125 \r\nQ 43.3125 58.59375 39.234375 62.25 \r\nQ 35.15625 65.921875 28.609375 65.921875 \r\nQ 23.96875 65.921875 18.8125 64.3125 \r\nQ 13.671875 62.703125 7.8125 59.421875 \r\nL 7.8125 69.390625 \r\nQ 13.765625 71.78125 18.9375 73 \r\nQ 24.125 74.21875 28.421875 74.21875 \r\nQ 39.75 74.21875 46.484375 68.546875 \r\nQ 53.21875 62.890625 53.21875 53.421875 \r\nQ 53.21875 48.921875 51.53125 44.890625 \r\nQ 49.859375 40.875 45.40625 35.40625 \r\nQ 44.1875 33.984375 37.640625 27.21875 \r\nQ 31.109375 20.453125 19.1875 8.296875 \r\nz\r\n\" id=\"DejaVuSans-50\"/>\r\n        <path d=\"M 10.796875 72.90625 \r\nL 49.515625 72.90625 \r\nL 49.515625 64.59375 \r\nL 19.828125 64.59375 \r\nL 19.828125 46.734375 \r\nQ 21.96875 47.46875 24.109375 47.828125 \r\nQ 26.265625 48.1875 28.421875 48.1875 \r\nQ 40.625 48.1875 47.75 41.5 \r\nQ 54.890625 34.8125 54.890625 23.390625 \r\nQ 54.890625 11.625 47.5625 5.09375 \r\nQ 40.234375 -1.421875 26.90625 -1.421875 \r\nQ 22.3125 -1.421875 17.546875 -0.640625 \r\nQ 12.796875 0.140625 7.71875 1.703125 \r\nL 7.71875 11.625 \r\nQ 12.109375 9.234375 16.796875 8.0625 \r\nQ 21.484375 6.890625 26.703125 6.890625 \r\nQ 35.15625 6.890625 40.078125 11.328125 \r\nQ 45.015625 15.765625 45.015625 23.390625 \r\nQ 45.015625 31 40.078125 35.4375 \r\nQ 35.15625 39.890625 26.703125 39.890625 \r\nQ 22.75 39.890625 18.8125 39.015625 \r\nQ 14.890625 38.140625 10.796875 36.28125 \r\nz\r\n\" id=\"DejaVuSans-53\"/>\r\n       </defs>\r\n       <use xlink:href=\"#DejaVuSans-50\"/>\r\n       <use x=\"63.623047\" xlink:href=\"#DejaVuSans-53\"/>\r\n      </g>\r\n     </g>\r\n    </g>\r\n    <g id=\"ytick_3\">\r\n     <g id=\"line2d_6\">\r\n      <g>\r\n       <use style=\"stroke:#000000;stroke-width:0.8;\" x=\"46.965625\" xlink:href=\"#m9786a85672\" y=\"187.198299\"/>\r\n      </g>\r\n     </g>\r\n     <g id=\"text_7\">\r\n      <!-- 50 -->\r\n      <g transform=\"translate(27.240625 190.997518)scale(0.1 -0.1)\">\r\n       <use xlink:href=\"#DejaVuSans-53\"/>\r\n       <use x=\"63.623047\" xlink:href=\"#DejaVuSans-48\"/>\r\n      </g>\r\n     </g>\r\n    </g>\r\n    <g id=\"ytick_4\">\r\n     <g id=\"line2d_7\">\r\n      <g>\r\n       <use style=\"stroke:#000000;stroke-width:0.8;\" x=\"46.965625\" xlink:href=\"#m9786a85672\" y=\"160.918386\"/>\r\n      </g>\r\n     </g>\r\n     <g id=\"text_8\">\r\n      <!-- 75 -->\r\n      <g transform=\"translate(27.240625 164.717605)scale(0.1 -0.1)\">\r\n       <defs>\r\n        <path d=\"M 8.203125 72.90625 \r\nL 55.078125 72.90625 \r\nL 55.078125 68.703125 \r\nL 28.609375 0 \r\nL 18.3125 0 \r\nL 43.21875 64.59375 \r\nL 8.203125 64.59375 \r\nz\r\n\" id=\"DejaVuSans-55\"/>\r\n       </defs>\r\n       <use xlink:href=\"#DejaVuSans-55\"/>\r\n       <use x=\"63.623047\" xlink:href=\"#DejaVuSans-53\"/>\r\n      </g>\r\n     </g>\r\n    </g>\r\n    <g id=\"ytick_5\">\r\n     <g id=\"line2d_8\">\r\n      <g>\r\n       <use style=\"stroke:#000000;stroke-width:0.8;\" x=\"46.965625\" xlink:href=\"#m9786a85672\" y=\"134.638473\"/>\r\n      </g>\r\n     </g>\r\n     <g id=\"text_9\">\r\n      <!-- 100 -->\r\n      <g transform=\"translate(20.878125 138.437692)scale(0.1 -0.1)\">\r\n       <defs>\r\n        <path d=\"M 12.40625 8.296875 \r\nL 28.515625 8.296875 \r\nL 28.515625 63.921875 \r\nL 10.984375 60.40625 \r\nL 10.984375 69.390625 \r\nL 28.421875 72.90625 \r\nL 38.28125 72.90625 \r\nL 38.28125 8.296875 \r\nL 54.390625 8.296875 \r\nL 54.390625 0 \r\nL 12.40625 0 \r\nz\r\n\" id=\"DejaVuSans-49\"/>\r\n       </defs>\r\n       <use xlink:href=\"#DejaVuSans-49\"/>\r\n       <use x=\"63.623047\" xlink:href=\"#DejaVuSans-48\"/>\r\n       <use x=\"127.246094\" xlink:href=\"#DejaVuSans-48\"/>\r\n      </g>\r\n     </g>\r\n    </g>\r\n    <g id=\"ytick_6\">\r\n     <g id=\"line2d_9\">\r\n      <g>\r\n       <use style=\"stroke:#000000;stroke-width:0.8;\" x=\"46.965625\" xlink:href=\"#m9786a85672\" y=\"108.35856\"/>\r\n      </g>\r\n     </g>\r\n     <g id=\"text_10\">\r\n      <!-- 125 -->\r\n      <g transform=\"translate(20.878125 112.157779)scale(0.1 -0.1)\">\r\n       <use xlink:href=\"#DejaVuSans-49\"/>\r\n       <use x=\"63.623047\" xlink:href=\"#DejaVuSans-50\"/>\r\n       <use x=\"127.246094\" xlink:href=\"#DejaVuSans-53\"/>\r\n      </g>\r\n     </g>\r\n    </g>\r\n    <g id=\"ytick_7\">\r\n     <g id=\"line2d_10\">\r\n      <g>\r\n       <use style=\"stroke:#000000;stroke-width:0.8;\" x=\"46.965625\" xlink:href=\"#m9786a85672\" y=\"82.078647\"/>\r\n      </g>\r\n     </g>\r\n     <g id=\"text_11\">\r\n      <!-- 150 -->\r\n      <g transform=\"translate(20.878125 85.877866)scale(0.1 -0.1)\">\r\n       <use xlink:href=\"#DejaVuSans-49\"/>\r\n       <use x=\"63.623047\" xlink:href=\"#DejaVuSans-53\"/>\r\n       <use x=\"127.246094\" xlink:href=\"#DejaVuSans-48\"/>\r\n      </g>\r\n     </g>\r\n    </g>\r\n    <g id=\"ytick_8\">\r\n     <g id=\"line2d_11\">\r\n      <g>\r\n       <use style=\"stroke:#000000;stroke-width:0.8;\" x=\"46.965625\" xlink:href=\"#m9786a85672\" y=\"55.798734\"/>\r\n      </g>\r\n     </g>\r\n     <g id=\"text_12\">\r\n      <!-- 175 -->\r\n      <g transform=\"translate(20.878125 59.597953)scale(0.1 -0.1)\">\r\n       <use xlink:href=\"#DejaVuSans-49\"/>\r\n       <use x=\"63.623047\" xlink:href=\"#DejaVuSans-55\"/>\r\n       <use x=\"127.246094\" xlink:href=\"#DejaVuSans-53\"/>\r\n      </g>\r\n     </g>\r\n    </g>\r\n    <g id=\"ytick_9\">\r\n     <g id=\"line2d_12\">\r\n      <g>\r\n       <use style=\"stroke:#000000;stroke-width:0.8;\" x=\"46.965625\" xlink:href=\"#m9786a85672\" y=\"29.518821\"/>\r\n      </g>\r\n     </g>\r\n     <g id=\"text_13\">\r\n      <!-- 200 -->\r\n      <g transform=\"translate(20.878125 33.31804)scale(0.1 -0.1)\">\r\n       <use xlink:href=\"#DejaVuSans-50\"/>\r\n       <use x=\"63.623047\" xlink:href=\"#DejaVuSans-48\"/>\r\n       <use x=\"127.246094\" xlink:href=\"#DejaVuSans-48\"/>\r\n      </g>\r\n     </g>\r\n    </g>\r\n    <g id=\"text_14\">\r\n     <!-- count -->\r\n     <g transform=\"translate(14.798438 145.144375)rotate(-90)scale(0.1 -0.1)\">\r\n      <defs>\r\n       <path d=\"M 48.78125 52.59375 \r\nL 48.78125 44.1875 \r\nQ 44.96875 46.296875 41.140625 47.34375 \r\nQ 37.3125 48.390625 33.40625 48.390625 \r\nQ 24.65625 48.390625 19.8125 42.84375 \r\nQ 14.984375 37.3125 14.984375 27.296875 \r\nQ 14.984375 17.28125 19.8125 11.734375 \r\nQ 24.65625 6.203125 33.40625 6.203125 \r\nQ 37.3125 6.203125 41.140625 7.25 \r\nQ 44.96875 8.296875 48.78125 10.40625 \r\nL 48.78125 2.09375 \r\nQ 45.015625 0.34375 40.984375 -0.53125 \r\nQ 36.96875 -1.421875 32.421875 -1.421875 \r\nQ 20.0625 -1.421875 12.78125 6.34375 \r\nQ 5.515625 14.109375 5.515625 27.296875 \r\nQ 5.515625 40.671875 12.859375 48.328125 \r\nQ 20.21875 56 33.015625 56 \r\nQ 37.15625 56 41.109375 55.140625 \r\nQ 45.0625 54.296875 48.78125 52.59375 \r\nz\r\n\" id=\"DejaVuSans-99\"/>\r\n       <path d=\"M 30.609375 48.390625 \r\nQ 23.390625 48.390625 19.1875 42.75 \r\nQ 14.984375 37.109375 14.984375 27.296875 \r\nQ 14.984375 17.484375 19.15625 11.84375 \r\nQ 23.34375 6.203125 30.609375 6.203125 \r\nQ 37.796875 6.203125 41.984375 11.859375 \r\nQ 46.1875 17.53125 46.1875 27.296875 \r\nQ 46.1875 37.015625 41.984375 42.703125 \r\nQ 37.796875 48.390625 30.609375 48.390625 \r\nz\r\nM 30.609375 56 \r\nQ 42.328125 56 49.015625 48.375 \r\nQ 55.71875 40.765625 55.71875 27.296875 \r\nQ 55.71875 13.875 49.015625 6.21875 \r\nQ 42.328125 -1.421875 30.609375 -1.421875 \r\nQ 18.84375 -1.421875 12.171875 6.21875 \r\nQ 5.515625 13.875 5.515625 27.296875 \r\nQ 5.515625 40.765625 12.171875 48.375 \r\nQ 18.84375 56 30.609375 56 \r\nz\r\n\" id=\"DejaVuSans-111\"/>\r\n       <path d=\"M 8.5 21.578125 \r\nL 8.5 54.6875 \r\nL 17.484375 54.6875 \r\nL 17.484375 21.921875 \r\nQ 17.484375 14.15625 20.5 10.265625 \r\nQ 23.53125 6.390625 29.59375 6.390625 \r\nQ 36.859375 6.390625 41.078125 11.03125 \r\nQ 45.3125 15.671875 45.3125 23.6875 \r\nL 45.3125 54.6875 \r\nL 54.296875 54.6875 \r\nL 54.296875 0 \r\nL 45.3125 0 \r\nL 45.3125 8.40625 \r\nQ 42.046875 3.421875 37.71875 1 \r\nQ 33.40625 -1.421875 27.6875 -1.421875 \r\nQ 18.265625 -1.421875 13.375 4.4375 \r\nQ 8.5 10.296875 8.5 21.578125 \r\nz\r\nM 31.109375 56 \r\nz\r\n\" id=\"DejaVuSans-117\"/>\r\n       <path d=\"M 54.890625 33.015625 \r\nL 54.890625 0 \r\nL 45.90625 0 \r\nL 45.90625 32.71875 \r\nQ 45.90625 40.484375 42.875 44.328125 \r\nQ 39.84375 48.1875 33.796875 48.1875 \r\nQ 26.515625 48.1875 22.3125 43.546875 \r\nQ 18.109375 38.921875 18.109375 30.90625 \r\nL 18.109375 0 \r\nL 9.078125 0 \r\nL 9.078125 54.6875 \r\nL 18.109375 54.6875 \r\nL 18.109375 46.1875 \r\nQ 21.34375 51.125 25.703125 53.5625 \r\nQ 30.078125 56 35.796875 56 \r\nQ 45.21875 56 50.046875 50.171875 \r\nQ 54.890625 44.34375 54.890625 33.015625 \r\nz\r\n\" id=\"DejaVuSans-110\"/>\r\n       <path d=\"M 18.3125 70.21875 \r\nL 18.3125 54.6875 \r\nL 36.8125 54.6875 \r\nL 36.8125 47.703125 \r\nL 18.3125 47.703125 \r\nL 18.3125 18.015625 \r\nQ 18.3125 11.328125 20.140625 9.421875 \r\nQ 21.96875 7.515625 27.59375 7.515625 \r\nL 36.8125 7.515625 \r\nL 36.8125 0 \r\nL 27.59375 0 \r\nQ 17.1875 0 13.234375 3.875 \r\nQ 9.28125 7.765625 9.28125 18.015625 \r\nL 9.28125 47.703125 \r\nL 2.6875 47.703125 \r\nL 2.6875 54.6875 \r\nL 9.28125 54.6875 \r\nL 9.28125 70.21875 \r\nz\r\n\" id=\"DejaVuSans-116\"/>\r\n      </defs>\r\n      <use xlink:href=\"#DejaVuSans-99\"/>\r\n      <use x=\"54.980469\" xlink:href=\"#DejaVuSans-111\"/>\r\n      <use x=\"116.162109\" xlink:href=\"#DejaVuSans-117\"/>\r\n      <use x=\"179.541016\" xlink:href=\"#DejaVuSans-110\"/>\r\n      <use x=\"242.919922\" xlink:href=\"#DejaVuSans-116\"/>\r\n     </g>\r\n    </g>\r\n   </g>\r\n   <g id=\"patch_6\">\r\n    <path d=\"M 46.965625 239.758125 \r\nL 46.965625 22.318125 \r\n\" style=\"fill:none;stroke:#000000;stroke-linecap:square;stroke-linejoin:miter;stroke-width:0.8;\"/>\r\n   </g>\r\n   <g id=\"patch_7\">\r\n    <path d=\"M 381.765625 239.758125 \r\nL 381.765625 22.318125 \r\n\" style=\"fill:none;stroke:#000000;stroke-linecap:square;stroke-linejoin:miter;stroke-width:0.8;\"/>\r\n   </g>\r\n   <g id=\"patch_8\">\r\n    <path d=\"M 46.965625 239.758125 \r\nL 381.765625 239.758125 \r\n\" style=\"fill:none;stroke:#000000;stroke-linecap:square;stroke-linejoin:miter;stroke-width:0.8;\"/>\r\n   </g>\r\n   <g id=\"patch_9\">\r\n    <path d=\"M 46.965625 22.318125 \r\nL 381.765625 22.318125 \r\n\" style=\"fill:none;stroke:#000000;stroke-linecap:square;stroke-linejoin:miter;stroke-width:0.8;\"/>\r\n   </g>\r\n   <g id=\"text_15\">\r\n    <!-- 2010/2011 FULL TIME RESULTS -->\r\n    <g transform=\"translate(121 16.318125)scale(0.12 -0.12)\">\r\n     <defs>\r\n      <path d=\"M 25.390625 72.90625 \r\nL 33.6875 72.90625 \r\nL 8.296875 -9.28125 \r\nL 0 -9.28125 \r\nz\r\n\" id=\"DejaVuSans-47\"/>\r\n      <path id=\"DejaVuSans-32\"/>\r\n      <path d=\"M 8.6875 72.90625 \r\nL 18.609375 72.90625 \r\nL 18.609375 28.609375 \r\nQ 18.609375 16.890625 22.84375 11.734375 \r\nQ 27.09375 6.59375 36.625 6.59375 \r\nQ 46.09375 6.59375 50.34375 11.734375 \r\nQ 54.59375 16.890625 54.59375 28.609375 \r\nL 54.59375 72.90625 \r\nL 64.5 72.90625 \r\nL 64.5 27.390625 \r\nQ 64.5 13.140625 57.4375 5.859375 \r\nQ 50.390625 -1.421875 36.625 -1.421875 \r\nQ 22.796875 -1.421875 15.734375 5.859375 \r\nQ 8.6875 13.140625 8.6875 27.390625 \r\nz\r\n\" id=\"DejaVuSans-85\"/>\r\n      <path d=\"M 9.8125 72.90625 \r\nL 19.671875 72.90625 \r\nL 19.671875 8.296875 \r\nL 55.171875 8.296875 \r\nL 55.171875 0 \r\nL 9.8125 0 \r\nz\r\n\" id=\"DejaVuSans-76\"/>\r\n      <path d=\"M 9.8125 72.90625 \r\nL 19.671875 72.90625 \r\nL 19.671875 0 \r\nL 9.8125 0 \r\nz\r\n\" id=\"DejaVuSans-73\"/>\r\n      <path d=\"M 9.8125 72.90625 \r\nL 24.515625 72.90625 \r\nL 43.109375 23.296875 \r\nL 61.8125 72.90625 \r\nL 76.515625 72.90625 \r\nL 76.515625 0 \r\nL 66.890625 0 \r\nL 66.890625 64.015625 \r\nL 48.09375 14.015625 \r\nL 38.1875 14.015625 \r\nL 19.390625 64.015625 \r\nL 19.390625 0 \r\nL 9.8125 0 \r\nz\r\n\" id=\"DejaVuSans-77\"/>\r\n      <path d=\"M 9.8125 72.90625 \r\nL 55.90625 72.90625 \r\nL 55.90625 64.59375 \r\nL 19.671875 64.59375 \r\nL 19.671875 43.015625 \r\nL 54.390625 43.015625 \r\nL 54.390625 34.71875 \r\nL 19.671875 34.71875 \r\nL 19.671875 8.296875 \r\nL 56.78125 8.296875 \r\nL 56.78125 0 \r\nL 9.8125 0 \r\nz\r\n\" id=\"DejaVuSans-69\"/>\r\n      <path d=\"M 53.515625 70.515625 \r\nL 53.515625 60.890625 \r\nQ 47.90625 63.578125 42.921875 64.890625 \r\nQ 37.9375 66.21875 33.296875 66.21875 \r\nQ 25.25 66.21875 20.875 63.09375 \r\nQ 16.5 59.96875 16.5 54.203125 \r\nQ 16.5 49.359375 19.40625 46.890625 \r\nQ 22.3125 44.4375 30.421875 42.921875 \r\nL 36.375 41.703125 \r\nQ 47.40625 39.59375 52.65625 34.296875 \r\nQ 57.90625 29 57.90625 20.125 \r\nQ 57.90625 9.515625 50.796875 4.046875 \r\nQ 43.703125 -1.421875 29.984375 -1.421875 \r\nQ 24.8125 -1.421875 18.96875 -0.25 \r\nQ 13.140625 0.921875 6.890625 3.21875 \r\nL 6.890625 13.375 \r\nQ 12.890625 10.015625 18.65625 8.296875 \r\nQ 24.421875 6.59375 29.984375 6.59375 \r\nQ 38.421875 6.59375 43.015625 9.90625 \r\nQ 47.609375 13.234375 47.609375 19.390625 \r\nQ 47.609375 24.75 44.3125 27.78125 \r\nQ 41.015625 30.8125 33.5 32.328125 \r\nL 27.484375 33.5 \r\nQ 16.453125 35.6875 11.515625 40.375 \r\nQ 6.59375 45.0625 6.59375 53.421875 \r\nQ 6.59375 63.09375 13.40625 68.65625 \r\nQ 20.21875 74.21875 32.171875 74.21875 \r\nQ 37.3125 74.21875 42.625 73.28125 \r\nQ 47.953125 72.359375 53.515625 70.515625 \r\nz\r\n\" id=\"DejaVuSans-83\"/>\r\n     </defs>\r\n     <use xlink:href=\"#DejaVuSans-50\"/>\r\n     <use x=\"63.623047\" xlink:href=\"#DejaVuSans-48\"/>\r\n     <use x=\"127.246094\" xlink:href=\"#DejaVuSans-49\"/>\r\n     <use x=\"190.869141\" xlink:href=\"#DejaVuSans-48\"/>\r\n     <use x=\"254.492188\" xlink:href=\"#DejaVuSans-47\"/>\r\n     <use x=\"288.183594\" xlink:href=\"#DejaVuSans-50\"/>\r\n     <use x=\"351.806641\" xlink:href=\"#DejaVuSans-48\"/>\r\n     <use x=\"415.429688\" xlink:href=\"#DejaVuSans-49\"/>\r\n     <use x=\"479.052734\" xlink:href=\"#DejaVuSans-49\"/>\r\n     <use x=\"542.675781\" xlink:href=\"#DejaVuSans-32\"/>\r\n     <use x=\"574.462891\" xlink:href=\"#DejaVuSans-70\"/>\r\n     <use x=\"631.982422\" xlink:href=\"#DejaVuSans-85\"/>\r\n     <use x=\"705.175781\" xlink:href=\"#DejaVuSans-76\"/>\r\n     <use x=\"760.888672\" xlink:href=\"#DejaVuSans-76\"/>\r\n     <use x=\"816.601562\" xlink:href=\"#DejaVuSans-32\"/>\r\n     <use x=\"848.388672\" xlink:href=\"#DejaVuSans-84\"/>\r\n     <use x=\"909.472656\" xlink:href=\"#DejaVuSans-73\"/>\r\n     <use x=\"938.964844\" xlink:href=\"#DejaVuSans-77\"/>\r\n     <use x=\"1025.244141\" xlink:href=\"#DejaVuSans-69\"/>\r\n     <use x=\"1088.427734\" xlink:href=\"#DejaVuSans-32\"/>\r\n     <use x=\"1120.214844\" xlink:href=\"#DejaVuSans-82\"/>\r\n     <use x=\"1189.697266\" xlink:href=\"#DejaVuSans-69\"/>\r\n     <use x=\"1252.880859\" xlink:href=\"#DejaVuSans-83\"/>\r\n     <use x=\"1316.357422\" xlink:href=\"#DejaVuSans-85\"/>\r\n     <use x=\"1389.550781\" xlink:href=\"#DejaVuSans-76\"/>\r\n     <use x=\"1431.513672\" xlink:href=\"#DejaVuSans-84\"/>\r\n     <use x=\"1492.597656\" xlink:href=\"#DejaVuSans-83\"/>\r\n    </g>\r\n   </g>\r\n  </g>\r\n </g>\r\n <defs>\r\n  <clipPath id=\"pcdcc663ee2\">\r\n   <rect height=\"217.44\" width=\"334.8\" x=\"46.965625\" y=\"22.318125\"/>\r\n  </clipPath>\r\n </defs>\r\n</svg>\r\n",
      "image/png": "[encoded data removed]"
     },
     "metadata": {
      "needs_background": "light"
     }
    }
   ],
   "source": [
    "sns.countplot(data[\"FTR\"])\n",
    "plt.title(\"2010/2011 FULL TIME RESULTS\")\n",
    "plt.savefig(\"full_time_results.png\")"
   ]
  },
  {
   "cell_type": "code",
   "execution_count": 11,
   "metadata": {},
   "outputs": [
    {
     "output_type": "execute_result",
     "data": {
      "text/plain": [
       "H    197\n",
       "A    104\n",
       "D     79\n",
       "Name: FTR, dtype: int64"
      ]
     },
     "metadata": {},
     "execution_count": 11
    }
   ],
   "source": [
    "data[\"FTR\"].value_counts()"
   ]
  },
  {
   "cell_type": "code",
   "execution_count": 12,
   "metadata": {},
   "outputs": [
    {
     "output_type": "execute_result",
     "data": {
      "text/plain": [
       "H    154\n",
       "D    138\n",
       "A     88\n",
       "Name: HTR, dtype: int64"
      ]
     },
     "metadata": {},
     "execution_count": 12
    }
   ],
   "source": [
    "data[\"HTR\"].value_counts()"
   ]
  },
  {
   "cell_type": "code",
   "execution_count": 13,
   "metadata": {},
   "outputs": [],
   "source": [
    "home_win = []\n",
    "for team in data[\"HomeTeam\"].unique():\n",
    "    home_win.append(Utility.extract_team_wins(data,\"HomeTeam\",\"FTR\",team))"
   ]
  },
  {
   "cell_type": "code",
   "execution_count": 14,
   "metadata": {
    "tags": []
   },
   "outputs": [],
   "source": [
    "table = dict()\n",
    "for index, team in enumerate(data[\"HomeTeam\"].unique()):\n",
    "    table[team] = home_win[index]"
   ]
  },
  {
   "cell_type": "code",
   "execution_count": 15,
   "metadata": {},
   "outputs": [],
   "source": [
    "home_loss = []\n",
    "for team in data[\"HomeTeam\"].unique():\n",
    "    home_loss.append(Utility.extract_team_wins(data,\"HomeTeam\",\"FTR\",team,mode=\"A\"))"
   ]
  },
  {
   "cell_type": "code",
   "execution_count": 16,
   "metadata": {},
   "outputs": [],
   "source": [
    "loss_table = {team: home_loss[index] for index,team in enumerate(data[\"HomeTeam\"].unique())}"
   ]
  },
  {
   "cell_type": "code",
   "execution_count": 17,
   "metadata": {},
   "outputs": [],
   "source": [
    "def get_goal_difference(df,source: str, col: str, against: str, team: str) -> tuple:\n",
    "    matches = df[df[source] == team]\n",
    "    goal_scored = matches[col].sum()\n",
    "    goal_against = matches[against].sum()\n",
    "    return goal_scored - goal_against, goal_scored, goal_against"
   ]
  },
  {
   "cell_type": "code",
   "execution_count": 18,
   "metadata": {},
   "outputs": [
    {
     "output_type": "execute_result",
     "data": {
      "text/plain": [
       "(36, 46, 10)"
      ]
     },
     "metadata": {},
     "execution_count": 18
    }
   ],
   "source": [
    "get_goal_difference(data,\"HomeTeam\",\"FTHG\",\"FTAG\",\"Barcelona\")"
   ]
  },
  {
   "cell_type": "code",
   "execution_count": 19,
   "metadata": {},
   "outputs": [],
   "source": [
    "first_half = data.iloc[:189,:22]"
   ]
  },
  {
   "cell_type": "code",
   "execution_count": 20,
   "metadata": {},
   "outputs": [],
   "source": [
    "first_wins = [Utility.extract_team_wins(first_half,\"HomeTeam\",\"FTR\",item)\n",
    "              for item in first_half[\"HomeTeam\"].unique()]"
   ]
  },
  {
   "cell_type": "code",
   "execution_count": 21,
   "metadata": {},
   "outputs": [],
   "source": [
    "first_loss = [Utility.extract_team_wins(first_half,\"HomeTeam\",\"FTR\",item,\"A\")\n",
    "              for item in first_half[\"HomeTeam\"].unique()]"
   ]
  },
  {
   "cell_type": "code",
   "execution_count": 22,
   "metadata": {},
   "outputs": [],
   "source": [
    "tempo = {item: first_wins[index] for index, item in enumerate(first_half[\"HomeTeam\"].unique())}"
   ]
  },
  {
   "cell_type": "code",
   "execution_count": 23,
   "metadata": {},
   "outputs": [],
   "source": [
    "another = {item: first_loss[index] for index, item in enumerate(first_half[\"HomeTeam\"].unique())}"
   ]
  },
  {
   "cell_type": "code",
   "execution_count": 24,
   "metadata": {},
   "outputs": [],
   "source": [
    "first_away_wins = [Utility.extract_team_wins(first_half,\"AwayTeam\",\"FTR\",item,\"A\")\n",
    "              for item in first_half[\"AwayTeam\"].unique()]"
   ]
  },
  {
   "cell_type": "code",
   "execution_count": 25,
   "metadata": {},
   "outputs": [],
   "source": [
    "away = {item: first_away_wins[index] for index, item in enumerate(first_half[\"AwayTeam\"].unique())}"
   ]
  },
  {
   "cell_type": "code",
   "execution_count": 26,
   "metadata": {},
   "outputs": [],
   "source": [
    "first_away_loss = [Utility.extract_team_wins(first_half,\"AwayTeam\",\"FTR\",item,\"H\")\n",
    "              for item in first_half[\"AwayTeam\"].unique()]"
   ]
  },
  {
   "cell_type": "code",
   "execution_count": 27,
   "metadata": {},
   "outputs": [],
   "source": [
    "away_loss = {item: first_away_loss[index] for index, item in enumerate(first_half[\"AwayTeam\"].unique())}"
   ]
  },
  {
   "cell_type": "code",
   "execution_count": 28,
   "metadata": {},
   "outputs": [],
   "source": [
    "another[\"points\"] = [loss * 3 for loss in another.values()]"
   ]
  },
  {
   "cell_type": "code",
   "execution_count": 29,
   "metadata": {},
   "outputs": [],
   "source": [
    "del another[\"points\"]"
   ]
  },
  {
   "cell_type": "code",
   "execution_count": 30,
   "metadata": {},
   "outputs": [],
   "source": [
    "home_goals = [get_goal_difference(first_half,\"HomeTeam\",\"FTHG\",\"FTAG\",game) for game in first_half[\"HomeTeam\"].unique()]"
   ]
  },
  {
   "cell_type": "code",
   "execution_count": 31,
   "metadata": {},
   "outputs": [],
   "source": [
    "away_goals = [get_goal_difference(first_half,\"AwayTeam\",\"FTAG\",\"FTHG\",game) for game in first_half[\"AwayTeam\"].unique()]"
   ]
  },
  {
   "cell_type": "code",
   "execution_count": 32,
   "metadata": {},
   "outputs": [
    {
     "output_type": "execute_result",
     "data": {
      "text/plain": [
       "(array(['Hercules', 'Levante', 'Malaga', 'Espanol', 'La Coruna',\n",
       "        'Mallorca', 'Osasuna', 'Santander', 'Sociedad', 'Ath Madrid',\n",
       "        'Ath Bilbao', 'Barcelona', 'Real Madrid', 'Valencia', 'Getafe',\n",
       "        'Sevilla', 'Sp Gijon', 'Villarreal', 'Zaragoza', 'Almeria'],\n",
       "       dtype=object),\n",
       " [(7, 19, 12),\n",
       "  (-2, 11, 13),\n",
       "  (-7, 12, 19),\n",
       "  (10, 17, 7),\n",
       "  (1, 10, 9),\n",
       "  (11, 15, 4),\n",
       "  (6, 11, 5),\n",
       "  (3, 9, 6),\n",
       "  (3, 14, 11),\n",
       "  (10, 16, 6),\n",
       "  (7, 17, 10),\n",
       "  (21, 28, 7),\n",
       "  (25, 30, 5),\n",
       "  (7, 17, 10),\n",
       "  (4, 18, 14),\n",
       "  (0, 15, 15),\n",
       "  (0, 12, 12),\n",
       "  (19, 24, 5),\n",
       "  (-7, 13, 20),\n",
       "  (-10, 9, 19)])"
      ]
     },
     "metadata": {},
     "execution_count": 32
    }
   ],
   "source": [
    "first_half[\"HomeTeam\"].unique(),home_goals"
   ]
  },
  {
   "cell_type": "code",
   "execution_count": 33,
   "metadata": {},
   "outputs": [
    {
     "output_type": "execute_result",
     "data": {
      "text/plain": [
       "[5, 3, 2, 8, 3, 6, 4, 4, 5, 5, 7, 8, 9, 6, 5, 4, 3, 9, 3, 0]"
      ]
     },
     "metadata": {},
     "execution_count": 33
    }
   ],
   "source": [
    "first_wins"
   ]
  },
  {
   "cell_type": "code",
   "execution_count": 34,
   "metadata": {},
   "outputs": [
    {
     "output_type": "execute_result",
     "data": {
      "text/plain": [
       "[3, 5, 6, 1, 2, 2, 1, 2, 4, 2, 3, 1, 0, 1, 4, 4, 4, 0, 5, 3]"
      ]
     },
     "metadata": {},
     "execution_count": 34
    }
   ],
   "source": [
    "first_loss"
   ]
  },
  {
   "cell_type": "code",
   "execution_count": 35,
   "metadata": {},
   "outputs": [
    {
     "output_type": "execute_result",
     "data": {
      "text/plain": [
       "[2, 4, 5, 3, 0, 6, 2, 9, 3, 0, 3, 1, 0, 1, 1, 2, 2, 3, 3, 3]"
      ]
     },
     "metadata": {},
     "execution_count": 35
    }
   ],
   "source": [
    "first_away_wins"
   ]
  },
  {
   "cell_type": "code",
   "execution_count": 36,
   "metadata": {},
   "outputs": [
    {
     "output_type": "execute_result",
     "data": {
      "text/plain": [
       "[5, 5, 3, 4, 4, 1, 6, 0, 4, 5, 5, 6, 8, 7, 7, 6, 5, 6, 6, 6]"
      ]
     },
     "metadata": {},
     "execution_count": 36
    }
   ],
   "source": [
    "first_away_loss"
   ]
  },
  {
   "cell_type": "code",
   "execution_count": 37,
   "metadata": {},
   "outputs": [
    {
     "output_type": "execute_result",
     "data": {
      "text/plain": [
       "(array(['Ath Bilbao', 'Sevilla', 'Valencia', 'Getafe', 'Zaragoza',\n",
       "        'Real Madrid', 'Almeria', 'Barcelona', 'Villarreal', 'Sp Gijon',\n",
       "        'Ath Madrid', 'Hercules', 'Osasuna', 'Santander', 'Levante',\n",
       "        'La Coruna', 'Mallorca', 'Espanol', 'Malaga', 'Sociedad'],\n",
       "       dtype=object),\n",
       " [5, 5, 3, 4, 4, 1, 6, 0, 4, 5, 5, 6, 8, 7, 7, 6, 5, 6, 6, 6])"
      ]
     },
     "metadata": {},
     "execution_count": 37
    }
   ],
   "source": [
    "first_half[\"AwayTeam\"].unique(),first_away_loss"
   ]
  },
  {
   "cell_type": "code",
   "execution_count": 72,
   "metadata": {},
   "outputs": [],
   "source": [
    "def create_league_table(df: pd.DataFrame) -> pd.DataFrame:\n",
    "    home = df[\"HomeTeam\"].unique()\n",
    "    res = pd.DataFrame(index=range(1,21))\n",
    "    wins = []\n",
    "    loss = []\n",
    "    draws = []\n",
    "    points = []\n",
    "    goals_scored = []\n",
    "    goals_conceded = []\n",
    "    goals_difference = []\n",
    "    for index,team in enumerate(home):\n",
    "        home_wins = Utility.extract_team_wins(df,\"HomeTeam\",\"FTR\",team)\n",
    "        home_losses = Utility.extract_team_wins(df,\"HomeTeam\",\"FTR\",team,mode=\"A\")\n",
    "        away_wins = Utility.extract_team_wins(df,\"AwayTeam\",\"FTR\",team,mode=\"A\")\n",
    "        away_losses = Utility.extract_team_wins(df,\"AwayTeam\",\"FTR\",team)\n",
    "\n",
    "        total_wins = home_wins + away_wins\n",
    "        total_loss = home_losses + away_losses\n",
    "        total_draws = 38 - (total_wins + total_loss)\n",
    "        wins.append(total_wins)\n",
    "        loss.append(total_loss)\n",
    "        draws.append(38 - total_wins + total_loss)\n",
    "        points.append((total_wins * 3) + total_draws)\n",
    "\n",
    "        home_goal_diff,home_goal_scored,home_goal_against = Utility.get_goal_difference(df,\"HomeTeam\",\"FTHG\",\"FTAG\",team)\n",
    "        away_goal_diff,away_goal_scored,away_goal_against = Utility.get_goal_difference(df,\"AwayTeam\",\"FTAG\",\"FTHG\",team)\n",
    "\n",
    "        goals_scored.append(home_goal_scored + away_goal_scored)\n",
    "        goals_conceded.append(home_goal_against + away_goal_against)\n",
    "        goals_difference.append(home_goal_diff + away_goal_diff)\n",
    "\n",
    "    res[\"Team\"] = home\n",
    "    res[\"Pld\"] = [38 for _ in range(20)]\n",
    "    res[\"W\"] = wins\n",
    "    res[\"D\"] = draws\n",
    "    res[\"L\"] = loss  \n",
    "    res[\"GF\"] = goals_scored\n",
    "    res[\"GA\"] = goals_conceded\n",
    "    res[\"GD\"] = goals_difference\n",
    "    res[\"Pts\"] = points\n",
    "    return res"
   ]
  },
  {
   "cell_type": "code",
   "execution_count": 76,
   "metadata": {},
   "outputs": [
    {
     "output_type": "stream",
     "name": "stdout",
     "text": [
      "0.11686921119689941\n"
     ]
    }
   ],
   "source": [
    "league = create_league_table(data)"
   ]
  },
  {
   "cell_type": "code",
   "execution_count": 84,
   "metadata": {},
   "outputs": [],
   "source": [
    "new_table = league.sort_values(by=\"Pts\",axis=0,ascending=False)\n",
    "new_table.set_index(pd.Index(range(1,21)),inplace=True)"
   ]
  },
  {
   "cell_type": "code",
   "execution_count": 85,
   "metadata": {},
   "outputs": [
    {
     "output_type": "execute_result",
     "data": {
      "text/plain": [
       "           Team  Pld   W   D   L   GF  GA  GD  Pts\n",
       "1     Barcelona   38  30  10   2   95  21  74   96\n",
       "2   Real Madrid   38  29  13   4  102  33  69   92\n",
       "3      Valencia   38  21  26   9   64  44  20   71\n",
       "4    Villarreal   38  18  32  12   54  44  10   62\n",
       "5       Sevilla   38  17  35  14   62  61   1   58\n",
       "6    Ath Bilbao   38  18  36  16   59  55   4   58\n",
       "7    Ath Madrid   38  17  35  14   62  53   9   58\n",
       "8       Espanol   38  15  42  19   46  55  -9   49\n",
       "9       Osasuna   38  13  42  17   45  46  -1   47\n",
       "10     Sp Gijon   38  11  40  13   35  42  -7   47\n",
       "11    Santander   38  12  42  16   41  56 -15   46\n",
       "12       Malaga   38  13  43  18   54  68 -14   46\n",
       "13     Sociedad   38  14  45  21   49  66 -17   45\n",
       "14     Zaragoza   38  12  43  17   40  53 -13   45\n",
       "15      Levante   38  12  43  17   41  52 -11   45\n",
       "16     Mallorca   38  12  44  18   41  56 -15   44\n",
       "17       Getafe   38  12  44  18   49  60 -11   44\n",
       "18    La Coruna   38  10  43  15   31  47 -16   43\n",
       "19     Hercules   38   9  50  21   36  60 -24   35\n",
       "20      Almeria   38   6  52  20   36  70 -34   30"
      ],
      "text/html": "<div>\n<style scoped>\n    .dataframe tbody tr th:only-of-type {\n        vertical-align: middle;\n    }\n\n    .dataframe tbody tr th {\n        vertical-align: top;\n    }\n\n    .dataframe thead th {\n        text-align: right;\n    }\n</style>\n<table border=\"1\" class=\"dataframe\">\n  <thead>\n    <tr style=\"text-align: right;\">\n      <th></th>\n      <th>Team</th>\n      <th>Pld</th>\n      <th>W</th>\n      <th>D</th>\n      <th>L</th>\n      <th>GF</th>\n      <th>GA</th>\n      <th>GD</th>\n      <th>Pts</th>\n    </tr>\n  </thead>\n  <tbody>\n    <tr>\n      <th>1</th>\n      <td>Barcelona</td>\n      <td>38</td>\n      <td>30</td>\n      <td>10</td>\n      <td>2</td>\n      <td>95</td>\n      <td>21</td>\n      <td>74</td>\n      <td>96</td>\n    </tr>\n    <tr>\n      <th>2</th>\n      <td>Real Madrid</td>\n      <td>38</td>\n      <td>29</td>\n      <td>13</td>\n      <td>4</td>\n      <td>102</td>\n      <td>33</td>\n      <td>69</td>\n      <td>92</td>\n    </tr>\n    <tr>\n      <th>3</th>\n      <td>Valencia</td>\n      <td>38</td>\n      <td>21</td>\n      <td>26</td>\n      <td>9</td>\n      <td>64</td>\n      <td>44</td>\n      <td>20</td>\n      <td>71</td>\n    </tr>\n    <tr>\n      <th>4</th>\n      <td>Villarreal</td>\n      <td>38</td>\n      <td>18</td>\n      <td>32</td>\n      <td>12</td>\n      <td>54</td>\n      <td>44</td>\n      <td>10</td>\n      <td>62</td>\n    </tr>\n    <tr>\n      <th>5</th>\n      <td>Sevilla</td>\n      <td>38</td>\n      <td>17</td>\n      <td>35</td>\n      <td>14</td>\n      <td>62</td>\n      <td>61</td>\n      <td>1</td>\n      <td>58</td>\n    </tr>\n    <tr>\n      <th>6</th>\n      <td>Ath Bilbao</td>\n      <td>38</td>\n      <td>18</td>\n      <td>36</td>\n      <td>16</td>\n      <td>59</td>\n      <td>55</td>\n      <td>4</td>\n      <td>58</td>\n    </tr>\n    <tr>\n      <th>7</th>\n      <td>Ath Madrid</td>\n      <td>38</td>\n      <td>17</td>\n      <td>35</td>\n      <td>14</td>\n      <td>62</td>\n      <td>53</td>\n      <td>9</td>\n      <td>58</td>\n    </tr>\n    <tr>\n      <th>8</th>\n      <td>Espanol</td>\n      <td>38</td>\n      <td>15</td>\n      <td>42</td>\n      <td>19</td>\n      <td>46</td>\n      <td>55</td>\n      <td>-9</td>\n      <td>49</td>\n    </tr>\n    <tr>\n      <th>9</th>\n      <td>Osasuna</td>\n      <td>38</td>\n      <td>13</td>\n      <td>42</td>\n      <td>17</td>\n      <td>45</td>\n      <td>46</td>\n      <td>-1</td>\n      <td>47</td>\n    </tr>\n    <tr>\n      <th>10</th>\n      <td>Sp Gijon</td>\n      <td>38</td>\n      <td>11</td>\n      <td>40</td>\n      <td>13</td>\n      <td>35</td>\n      <td>42</td>\n      <td>-7</td>\n      <td>47</td>\n    </tr>\n    <tr>\n      <th>11</th>\n      <td>Santander</td>\n      <td>38</td>\n      <td>12</td>\n      <td>42</td>\n      <td>16</td>\n      <td>41</td>\n      <td>56</td>\n      <td>-15</td>\n      <td>46</td>\n    </tr>\n    <tr>\n      <th>12</th>\n      <td>Malaga</td>\n      <td>38</td>\n      <td>13</td>\n      <td>43</td>\n      <td>18</td>\n      <td>54</td>\n      <td>68</td>\n      <td>-14</td>\n      <td>46</td>\n    </tr>\n    <tr>\n      <th>13</th>\n      <td>Sociedad</td>\n      <td>38</td>\n      <td>14</td>\n      <td>45</td>\n      <td>21</td>\n      <td>49</td>\n      <td>66</td>\n      <td>-17</td>\n      <td>45</td>\n    </tr>\n    <tr>\n      <th>14</th>\n      <td>Zaragoza</td>\n      <td>38</td>\n      <td>12</td>\n      <td>43</td>\n      <td>17</td>\n      <td>40</td>\n      <td>53</td>\n      <td>-13</td>\n      <td>45</td>\n    </tr>\n    <tr>\n      <th>15</th>\n      <td>Levante</td>\n      <td>38</td>\n      <td>12</td>\n      <td>43</td>\n      <td>17</td>\n      <td>41</td>\n      <td>52</td>\n      <td>-11</td>\n      <td>45</td>\n    </tr>\n    <tr>\n      <th>16</th>\n      <td>Mallorca</td>\n      <td>38</td>\n      <td>12</td>\n      <td>44</td>\n      <td>18</td>\n      <td>41</td>\n      <td>56</td>\n      <td>-15</td>\n      <td>44</td>\n    </tr>\n    <tr>\n      <th>17</th>\n      <td>Getafe</td>\n      <td>38</td>\n      <td>12</td>\n      <td>44</td>\n      <td>18</td>\n      <td>49</td>\n      <td>60</td>\n      <td>-11</td>\n      <td>44</td>\n    </tr>\n    <tr>\n      <th>18</th>\n      <td>La Coruna</td>\n      <td>38</td>\n      <td>10</td>\n      <td>43</td>\n      <td>15</td>\n      <td>31</td>\n      <td>47</td>\n      <td>-16</td>\n      <td>43</td>\n    </tr>\n    <tr>\n      <th>19</th>\n      <td>Hercules</td>\n      <td>38</td>\n      <td>9</td>\n      <td>50</td>\n      <td>21</td>\n      <td>36</td>\n      <td>60</td>\n      <td>-24</td>\n      <td>35</td>\n    </tr>\n    <tr>\n      <th>20</th>\n      <td>Almeria</td>\n      <td>38</td>\n      <td>6</td>\n      <td>52</td>\n      <td>20</td>\n      <td>36</td>\n      <td>70</td>\n      <td>-34</td>\n      <td>30</td>\n    </tr>\n  </tbody>\n</table>\n</div>"
     },
     "metadata": {},
     "execution_count": 85
    }
   ],
   "source": [
    "new_table"
   ]
  },
  {
   "cell_type": "code",
   "execution_count": 87,
   "metadata": {},
   "outputs": [],
   "source": [
    "new_table.to_csv(\"league/league_08_09.csv\")"
   ]
  },
  {
   "cell_type": "code",
   "execution_count": null,
   "metadata": {},
   "outputs": [],
   "source": []
  }
 ]
}