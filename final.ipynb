{
 "metadata": {
  "language_info": {
   "codemirror_mode": {
    "name": "ipython",
    "version": 3
   },
   "file_extension": ".py",
   "mimetype": "text/x-python",
   "name": "python",
   "nbconvert_exporter": "python",
   "pygments_lexer": "ipython3",
   "version": "3.8.5-final"
  },
  "orig_nbformat": 2,
  "kernelspec": {
   "name": "Python 3.8.5 32-bit",
   "display_name": "Python 3.8.5 32-bit",
   "metadata": {
    "interpreter": {
     "hash": "7a542ca580817fc4dd55327026e074e2fa0cd470fc5dee9350c2d8b13822db8d"
    }
   }
  }
 },
 "nbformat": 4,
 "nbformat_minor": 2,
 "cells": [
  {
   "cell_type": "code",
   "execution_count": 2,
   "metadata": {},
   "outputs": [],
   "source": [
    "import pandas as pd"
   ]
  },
  {
   "cell_type": "code",
   "execution_count": 3,
   "metadata": {},
   "outputs": [],
   "source": [
    "from la_liga import  Utility"
   ]
  },
  {
   "cell_type": "code",
   "execution_count": 7,
   "metadata": {},
   "outputs": [],
   "source": [
    "data_11 = pd.read_csv(\"data/season-1011_csv.csv\")\n",
    "data_12 = pd.read_csv(\"data/season-1112_csv.csv\")\n",
    "data_13 = pd.read_csv(\"data/season-1213_csv.csv\")\n",
    "data_14 = pd.read_csv(\"data/season-1314_csv.csv\")\n",
    "data_15 = pd.read_csv(\"data/season-1415_csv.csv\")\n",
    "data_16 = pd.read_csv(\"data/season-1516_csv.csv\")\n",
    "data_17 = pd.read_csv(\"data/season-1617_csv.csv\")\n",
    "data_18 = pd.read_csv(\"data/season-1718_csv.csv\")\n",
    "data_19 = pd.read_csv(\"data/season-1819_csv.csv\")"
   ]
  },
  {
   "cell_type": "code",
   "execution_count": 14,
   "metadata": {},
   "outputs": [],
   "source": [
    "leagues = [data_11,data_12,data_13,data_14,data_15,data_16,data_17,data_18,data_19]\n",
    "start = 10\n",
    "for league in leagues:\n",
    "    table = Utility.create_league_table(league)\n",
    "    table.sort_values(by=\"Pts\",ascending=False)\n",
    "    table.set_index(pd.Index(range(1,21)),inplace=True)\n",
    "    table.to_csv(f\"league/league{start}_{start + 1}.csv\")\n",
    "    start += 1"
   ]
  },
  {
   "cell_type": "code",
   "execution_count": null,
   "metadata": {},
   "outputs": [],
   "source": []
  }
 ]
}