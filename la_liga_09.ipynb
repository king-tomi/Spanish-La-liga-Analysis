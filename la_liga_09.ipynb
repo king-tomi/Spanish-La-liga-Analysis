{
 "metadata": {
  "language_info": {
   "codemirror_mode": {
    "name": "ipython",
    "version": 3
   },
   "file_extension": ".py",
   "mimetype": "text/x-python",
   "name": "python",
   "nbconvert_exporter": "python",
   "pygments_lexer": "ipython3",
   "version": "3.8.5-final"
  },
  "orig_nbformat": 2,
  "kernelspec": {
   "name": "python_defaultSpec_1599170541598",
   "display_name": "Python 3.8.5 32-bit"
  }
 },
 "nbformat": 4,
 "nbformat_minor": 2,
 "cells": [
  {
   "cell_type": "code",
   "execution_count": 1,
   "metadata": {},
   "outputs": [],
   "source": [
    "import numpy as np\n",
    "import pandas as pd\n",
    "import seaborn as sns"
   ]
  },
  {
   "cell_type": "code",
   "execution_count": 2,
   "metadata": {},
   "outputs": [],
   "source": [
    "import matplotlib.pyplot as plt\n",
    "%matplotlib inline"
   ]
  },
  {
   "cell_type": "code",
   "execution_count": 3,
   "metadata": {},
   "outputs": [],
   "source": [
    "data = pd.read_csv(\"data/season-0910_csv.csv\")"
   ]
  },
  {
   "cell_type": "code",
   "execution_count": 4,
   "metadata": {},
   "outputs": [
    {
     "output_type": "execute_result",
     "data": {
      "text/plain": "   Div        Date     HomeTeam    AwayTeam  FTHG  FTAG FTR  HTHG  HTAG HTR  \\\n0  SP1  2009-08-29  Real Madrid   La Coruna     3     2   H     2     1   H   \n1  SP1  2009-08-29     Zaragoza    Tenerife     1     0   H     0     0   D   \n2  SP1  2009-08-30      Almeria  Valladolid     0     0   D     0     0   D   \n3  SP1  2009-08-30   Ath Bilbao     Espanol     1     0   H     0     0   D   \n4  SP1  2009-08-30       Malaga  Ath Madrid     3     0   H     1     0   H   \n\n   ...  BbMx>2.5  BbAv>2.5  BbMx<2.5  BbAv<2.5  BbAH  BbAHh  BbMxAHH  BbAvAHH  \\\n0  ...      1.52      1.48      2.90      2.53    19    0.0     9.00     1.92   \n1  ...      2.08      1.97      1.91      1.79    18    0.0     1.38     1.36   \n2  ...      2.16      2.02      1.83      1.74    19    0.0     1.62     1.54   \n3  ...      2.15      2.02      1.81      1.74    19    0.0     1.66     1.58   \n4  ...      1.85      1.80      2.13      1.96    18    0.0     2.60     2.45   \n\n   BbMxAHA  BbAvAHA  \n0    11.00     8.69  \n1     3.20     3.01  \n2     2.54     2.41  \n3     2.47     2.30  \n4     1.58     1.51  \n\n[5 rows x 70 columns]",
      "text/html": "<div>\n<style scoped>\n    .dataframe tbody tr th:only-of-type {\n        vertical-align: middle;\n    }\n\n    .dataframe tbody tr th {\n        vertical-align: top;\n    }\n\n    .dataframe thead th {\n        text-align: right;\n    }\n</style>\n<table border=\"1\" class=\"dataframe\">\n  <thead>\n    <tr style=\"text-align: right;\">\n      <th></th>\n      <th>Div</th>\n      <th>Date</th>\n      <th>HomeTeam</th>\n      <th>AwayTeam</th>\n      <th>FTHG</th>\n      <th>FTAG</th>\n      <th>FTR</th>\n      <th>HTHG</th>\n      <th>HTAG</th>\n      <th>HTR</th>\n      <th>...</th>\n      <th>BbMx&gt;2.5</th>\n      <th>BbAv&gt;2.5</th>\n      <th>BbMx&lt;2.5</th>\n      <th>BbAv&lt;2.5</th>\n      <th>BbAH</th>\n      <th>BbAHh</th>\n      <th>BbMxAHH</th>\n      <th>BbAvAHH</th>\n      <th>BbMxAHA</th>\n      <th>BbAvAHA</th>\n    </tr>\n  </thead>\n  <tbody>\n    <tr>\n      <th>0</th>\n      <td>SP1</td>\n      <td>2009-08-29</td>\n      <td>Real Madrid</td>\n      <td>La Coruna</td>\n      <td>3</td>\n      <td>2</td>\n      <td>H</td>\n      <td>2</td>\n      <td>1</td>\n      <td>H</td>\n      <td>...</td>\n      <td>1.52</td>\n      <td>1.48</td>\n      <td>2.90</td>\n      <td>2.53</td>\n      <td>19</td>\n      <td>0.0</td>\n      <td>9.00</td>\n      <td>1.92</td>\n      <td>11.00</td>\n      <td>8.69</td>\n    </tr>\n    <tr>\n      <th>1</th>\n      <td>SP1</td>\n      <td>2009-08-29</td>\n      <td>Zaragoza</td>\n      <td>Tenerife</td>\n      <td>1</td>\n      <td>0</td>\n      <td>H</td>\n      <td>0</td>\n      <td>0</td>\n      <td>D</td>\n      <td>...</td>\n      <td>2.08</td>\n      <td>1.97</td>\n      <td>1.91</td>\n      <td>1.79</td>\n      <td>18</td>\n      <td>0.0</td>\n      <td>1.38</td>\n      <td>1.36</td>\n      <td>3.20</td>\n      <td>3.01</td>\n    </tr>\n    <tr>\n      <th>2</th>\n      <td>SP1</td>\n      <td>2009-08-30</td>\n      <td>Almeria</td>\n      <td>Valladolid</td>\n      <td>0</td>\n      <td>0</td>\n      <td>D</td>\n      <td>0</td>\n      <td>0</td>\n      <td>D</td>\n      <td>...</td>\n      <td>2.16</td>\n      <td>2.02</td>\n      <td>1.83</td>\n      <td>1.74</td>\n      <td>19</td>\n      <td>0.0</td>\n      <td>1.62</td>\n      <td>1.54</td>\n      <td>2.54</td>\n      <td>2.41</td>\n    </tr>\n    <tr>\n      <th>3</th>\n      <td>SP1</td>\n      <td>2009-08-30</td>\n      <td>Ath Bilbao</td>\n      <td>Espanol</td>\n      <td>1</td>\n      <td>0</td>\n      <td>H</td>\n      <td>0</td>\n      <td>0</td>\n      <td>D</td>\n      <td>...</td>\n      <td>2.15</td>\n      <td>2.02</td>\n      <td>1.81</td>\n      <td>1.74</td>\n      <td>19</td>\n      <td>0.0</td>\n      <td>1.66</td>\n      <td>1.58</td>\n      <td>2.47</td>\n      <td>2.30</td>\n    </tr>\n    <tr>\n      <th>4</th>\n      <td>SP1</td>\n      <td>2009-08-30</td>\n      <td>Malaga</td>\n      <td>Ath Madrid</td>\n      <td>3</td>\n      <td>0</td>\n      <td>H</td>\n      <td>1</td>\n      <td>0</td>\n      <td>H</td>\n      <td>...</td>\n      <td>1.85</td>\n      <td>1.80</td>\n      <td>2.13</td>\n      <td>1.96</td>\n      <td>18</td>\n      <td>0.0</td>\n      <td>2.60</td>\n      <td>2.45</td>\n      <td>1.58</td>\n      <td>1.51</td>\n    </tr>\n  </tbody>\n</table>\n<p>5 rows × 70 columns</p>\n</div>"
     },
     "metadata": {},
     "execution_count": 4
    }
   ],
   "source": [
    "data.head()"
   ]
  },
  {
   "cell_type": "code",
   "execution_count": 5,
   "metadata": {
    "tags": []
   },
   "outputs": [
    {
     "output_type": "stream",
     "name": "stdout",
     "text": "<class 'pandas.core.frame.DataFrame'>\nRangeIndex: 380 entries, 0 to 379\nData columns (total 70 columns):\n #   Column    Non-Null Count  Dtype  \n---  ------    --------------  -----  \n 0   Div       380 non-null    object \n 1   Date      380 non-null    object \n 2   HomeTeam  380 non-null    object \n 3   AwayTeam  380 non-null    object \n 4   FTHG      380 non-null    int64  \n 5   FTAG      380 non-null    int64  \n 6   FTR       380 non-null    object \n 7   HTHG      380 non-null    int64  \n 8   HTAG      380 non-null    int64  \n 9   HTR       380 non-null    object \n 10  HS        380 non-null    int64  \n 11  AS        380 non-null    int64  \n 12  HST       380 non-null    int64  \n 13  AST       380 non-null    int64  \n 14  HF        380 non-null    int64  \n 15  AF        380 non-null    int64  \n 16  HC        380 non-null    int64  \n 17  AC        380 non-null    int64  \n 18  HY        380 non-null    int64  \n 19  AY        380 non-null    int64  \n 20  HR        380 non-null    int64  \n 21  AR        380 non-null    int64  \n 22  B365H     380 non-null    float64\n 23  B365D     380 non-null    float64\n 24  B365A     380 non-null    float64\n 25  BWH       380 non-null    float64\n 26  BWD       380 non-null    float64\n 27  BWA       380 non-null    float64\n 28  GBH       380 non-null    float64\n 29  GBD       380 non-null    float64\n 30  GBA       380 non-null    float64\n 31  IWH       380 non-null    float64\n 32  IWD       380 non-null    float64\n 33  IWA       380 non-null    float64\n 34  LBH       380 non-null    float64\n 35  LBD       380 non-null    float64\n 36  LBA       380 non-null    float64\n 37  SBH       380 non-null    float64\n 38  SBD       380 non-null    float64\n 39  SBA       380 non-null    float64\n 40  WHH       380 non-null    float64\n 41  WHD       380 non-null    float64\n 42  WHA       380 non-null    float64\n 43  SJH       380 non-null    float64\n 44  SJD       380 non-null    float64\n 45  SJA       380 non-null    float64\n 46  VCH       380 non-null    float64\n 47  VCD       380 non-null    float64\n 48  VCA       380 non-null    float64\n 49  BSH       380 non-null    float64\n 50  BSD       380 non-null    float64\n 51  BSA       380 non-null    float64\n 52  Bb1X2     380 non-null    int64  \n 53  BbMxH     380 non-null    float64\n 54  BbAvH     380 non-null    float64\n 55  BbMxD     380 non-null    float64\n 56  BbAvD     380 non-null    float64\n 57  BbMxA     380 non-null    float64\n 58  BbAvA     380 non-null    float64\n 59  BbOU      380 non-null    int64  \n 60  BbMx>2.5  379 non-null    float64\n 61  BbAv>2.5  379 non-null    float64\n 62  BbMx<2.5  379 non-null    float64\n 63  BbAv<2.5  379 non-null    float64\n 64  BbAH      380 non-null    int64  \n 65  BbAHh     380 non-null    float64\n 66  BbMxAHH   380 non-null    float64\n 67  BbAvAHH   380 non-null    float64\n 68  BbMxAHA   380 non-null    float64\n 69  BbAvAHA   380 non-null    float64\ndtypes: float64(45), int64(19), object(6)\nmemory usage: 199.0+ KB\n"
    }
   ],
   "source": [
    "data.info()"
   ]
  },
  {
   "cell_type": "code",
   "execution_count": 6,
   "metadata": {},
   "outputs": [],
   "source": [
    "data[\"Date\"] = pd.to_datetime(data[\"Date\"])"
   ]
  },
  {
   "cell_type": "code",
   "execution_count": 7,
   "metadata": {},
   "outputs": [],
   "source": [
    "#average goal per match for each game played\n",
    "data[\"AVGGPM\"] = (data[\"FTHG\"] + data[\"FTAG\"]) / 2"
   ]
  },
  {
   "cell_type": "code",
   "execution_count": 8,
   "metadata": {},
   "outputs": [
    {
     "output_type": "execute_result",
     "data": {
      "text/plain": "     Div       Date   HomeTeam     AwayTeam  FTHG  FTAG FTR  HTHG  HTAG HTR  \\\n168  SP1 2010-01-10   Tenerife    Barcelona     0     5   A     0     3   A   \n232  SP1 2010-02-27   Tenerife  Real Madrid     1     5   A     0     2   A   \n358  SP1 2010-05-05  Santander      Sevilla     1     5   A     0     2   A   \n\n     ...  BbAv>2.5  BbMx<2.5  BbAv<2.5  BbAH  BbAHh  BbMxAHH  BbAvAHH  \\\n168  ...      1.60      2.35      2.23    20    0.0     6.63     5.58   \n232  ...      1.54      2.43      2.34    24    1.5     2.12     2.04   \n358  ...      1.92      1.92      1.84    19    0.0     2.45     2.25   \n\n     BbMxAHA  BbAvAHA  AVGGPM  \n168     1.14     1.12     2.5  \n232     1.86     1.82     3.0  \n358     1.67     1.59     3.0  \n\n[3 rows x 71 columns]",
      "text/html": "<div>\n<style scoped>\n    .dataframe tbody tr th:only-of-type {\n        vertical-align: middle;\n    }\n\n    .dataframe tbody tr th {\n        vertical-align: top;\n    }\n\n    .dataframe thead th {\n        text-align: right;\n    }\n</style>\n<table border=\"1\" class=\"dataframe\">\n  <thead>\n    <tr style=\"text-align: right;\">\n      <th></th>\n      <th>Div</th>\n      <th>Date</th>\n      <th>HomeTeam</th>\n      <th>AwayTeam</th>\n      <th>FTHG</th>\n      <th>FTAG</th>\n      <th>FTR</th>\n      <th>HTHG</th>\n      <th>HTAG</th>\n      <th>HTR</th>\n      <th>...</th>\n      <th>BbAv&gt;2.5</th>\n      <th>BbMx&lt;2.5</th>\n      <th>BbAv&lt;2.5</th>\n      <th>BbAH</th>\n      <th>BbAHh</th>\n      <th>BbMxAHH</th>\n      <th>BbAvAHH</th>\n      <th>BbMxAHA</th>\n      <th>BbAvAHA</th>\n      <th>AVGGPM</th>\n    </tr>\n  </thead>\n  <tbody>\n    <tr>\n      <th>168</th>\n      <td>SP1</td>\n      <td>2010-01-10</td>\n      <td>Tenerife</td>\n      <td>Barcelona</td>\n      <td>0</td>\n      <td>5</td>\n      <td>A</td>\n      <td>0</td>\n      <td>3</td>\n      <td>A</td>\n      <td>...</td>\n      <td>1.60</td>\n      <td>2.35</td>\n      <td>2.23</td>\n      <td>20</td>\n      <td>0.0</td>\n      <td>6.63</td>\n      <td>5.58</td>\n      <td>1.14</td>\n      <td>1.12</td>\n      <td>2.5</td>\n    </tr>\n    <tr>\n      <th>232</th>\n      <td>SP1</td>\n      <td>2010-02-27</td>\n      <td>Tenerife</td>\n      <td>Real Madrid</td>\n      <td>1</td>\n      <td>5</td>\n      <td>A</td>\n      <td>0</td>\n      <td>2</td>\n      <td>A</td>\n      <td>...</td>\n      <td>1.54</td>\n      <td>2.43</td>\n      <td>2.34</td>\n      <td>24</td>\n      <td>1.5</td>\n      <td>2.12</td>\n      <td>2.04</td>\n      <td>1.86</td>\n      <td>1.82</td>\n      <td>3.0</td>\n    </tr>\n    <tr>\n      <th>358</th>\n      <td>SP1</td>\n      <td>2010-05-05</td>\n      <td>Santander</td>\n      <td>Sevilla</td>\n      <td>1</td>\n      <td>5</td>\n      <td>A</td>\n      <td>0</td>\n      <td>2</td>\n      <td>A</td>\n      <td>...</td>\n      <td>1.92</td>\n      <td>1.92</td>\n      <td>1.84</td>\n      <td>19</td>\n      <td>0.0</td>\n      <td>2.45</td>\n      <td>2.25</td>\n      <td>1.67</td>\n      <td>1.59</td>\n      <td>3.0</td>\n    </tr>\n  </tbody>\n</table>\n<p>3 rows × 71 columns</p>\n</div>"
     },
     "metadata": {},
     "execution_count": 8
    }
   ],
   "source": [
    "data[data[\"FTAG\"] == data[\"FTAG\"].max()]"
   ]
  },
  {
   "cell_type": "code",
   "execution_count": 9,
   "metadata": {
    "tags": []
   },
   "outputs": [],
   "source": [
    "group = data.groupby([\"FTR\"]).sum()"
   ]
  },
  {
   "cell_type": "code",
   "execution_count": 30,
   "metadata": {},
   "outputs": [],
   "source": [
    "def extract_team(df: pd.DataFrame, source: str, col: str, name: str,mode: str=\"H\") -> int:\n",
    "    \"\"\"extracts a team from a column\n",
    "       \n",
    "       df: the dataframe we want to extract the team -> pandas DataFrame\n",
    "\n",
    "       source: the name of the column we want to split the dataframe from -> str\n",
    "\n",
    "       col: the name of the column we wish to extract from -> str\n",
    "       \n",
    "       name: the name of the team we want to extract -> str\n",
    "    \"\"\"\n",
    "    matches = df[df[source] == name]\n",
    "    modes = matches[col]\n",
    "    res = 0\n",
    "    for item in modes:\n",
    "        if item == mode:\n",
    "            res += 1\n",
    "    return res"
   ]
  },
  {
   "cell_type": "code",
   "execution_count": 96,
   "metadata": {},
   "outputs": [],
   "source": [
    "home_wins = []\n",
    "names = data[\"HomeTeam\"].unique()\n",
    "for name in names:\n",
    "    home_wins.append(extract_team(data,\"HomeTeam\",\"FTR\",name))"
   ]
  },
  {
   "cell_type": "code",
   "execution_count": 132,
   "metadata": {},
   "outputs": [],
   "source": [
    "away_wins = []\n",
    "fin = data[\"AwayTeam\"].unique()\n",
    "for away in names:\n",
    "    away_wins.append(extract_team(data,\"AwayTeam\",\"FTR\",away,\"H\"))"
   ]
  },
  {
   "cell_type": "code",
   "execution_count": 133,
   "metadata": {},
   "outputs": [
    {
     "output_type": "execute_result",
     "data": {
      "text/plain": "[3, 11, 11, 10, 9, 9, 13, 7, 8, 1, 12, 12, 10, 10, 11, 11, 15, 9, 11, 11]"
     },
     "metadata": {},
     "execution_count": 133
    }
   ],
   "source": [
    "away_wins"
   ]
  },
  {
   "cell_type": "code",
   "execution_count": 134,
   "metadata": {
    "tags": []
   },
   "outputs": [
    {
     "output_type": "stream",
     "name": "stdout",
     "text": "Real Madrid 3 18\nZaragoza 11 7\nAlmeria 11 8\nAth Bilbao 10 11\nMalaga 9 5\nMallorca 9 15\nOsasuna 13 7\nSantander 7 4\nValencia 8 13\nBarcelona 1 18\nAth Madrid 12 11\nEspanol 12 9\nGetafe 10 11\nSevilla 10 10\nLa Coruna 11 9\nSp Gijon 11 7\nTenerife 15 8\nValladolid 9 4\nVillarreal 11 13\nXerez 11 6\n"
    }
   ],
   "source": [
    "for row,item in enumerate(names):\n",
    "    print(item,away_wins[row],home_wins[row])"
   ]
  },
  {
   "cell_type": "code",
   "execution_count": 119,
   "metadata": {},
   "outputs": [
    {
     "output_type": "execute_result",
     "data": {
      "text/plain": "'H'"
     },
     "metadata": {},
     "execution_count": 119
    }
   ],
   "source": [
    "data[\"FTR\"][0]"
   ]
  },
  {
   "cell_type": "code",
   "execution_count": null,
   "metadata": {},
   "outputs": [],
   "source": []
  }
 ]
}